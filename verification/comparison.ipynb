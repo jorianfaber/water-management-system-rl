{
 "cells": [
  {
   "cell_type": "code",
   "execution_count": 3,
   "id": "initial_id",
   "metadata": {
    "ExecuteTime": {
     "end_time": "2024-05-20T17:10:03.293220Z",
     "start_time": "2024-05-20T17:10:02.817280Z"
    },
    "collapsed": true
   },
   "outputs": [],
   "source": [
    "import pandas as pd"
   ]
  },
  {
   "cell_type": "code",
   "execution_count": 2,
   "id": "3c32742c",
   "metadata": {},
   "outputs": [
    {
     "name": "stdout",
     "output_type": "stream",
     "text": [
      "Requirement already satisfied: pandas in c:\\users\\joria\\documents\\cse\\y5\\cse3000 (bep)\\water-management-system-rl\\.venv\\lib\\site-packages (2.0.3)\n",
      "Requirement already satisfied: python-dateutil>=2.8.2 in c:\\users\\joria\\documents\\cse\\y5\\cse3000 (bep)\\water-management-system-rl\\.venv\\lib\\site-packages (from pandas) (2.9.0.post0)\n",
      "Requirement already satisfied: pytz>=2020.1 in c:\\users\\joria\\documents\\cse\\y5\\cse3000 (bep)\\water-management-system-rl\\.venv\\lib\\site-packages (from pandas) (2024.1)\n",
      "Requirement already satisfied: tzdata>=2022.1 in c:\\users\\joria\\documents\\cse\\y5\\cse3000 (bep)\\water-management-system-rl\\.venv\\lib\\site-packages (from pandas) (2024.1)\n",
      "Requirement already satisfied: numpy>=1.20.3 in c:\\users\\joria\\documents\\cse\\y5\\cse3000 (bep)\\water-management-system-rl\\.venv\\lib\\site-packages (from pandas) (1.24.4)\n",
      "Requirement already satisfied: six>=1.5 in c:\\users\\joria\\documents\\cse\\y5\\cse3000 (bep)\\water-management-system-rl\\.venv\\lib\\site-packages (from python-dateutil>=2.8.2->pandas) (1.16.0)\n",
      "Note: you may need to restart the kernel to use updated packages.\n"
     ]
    },
    {
     "name": "stderr",
     "output_type": "stream",
     "text": [
      "\n",
      "[notice] A new release of pip is available: 24.0 -> 24.1.1\n",
      "[notice] To update, run: python.exe -m pip install --upgrade pip\n"
     ]
    }
   ],
   "source": [
    "pip install pandas"
   ]
  },
  {
   "cell_type": "code",
   "execution_count": 4,
   "id": "bf06cf709055aca6",
   "metadata": {
    "ExecuteTime": {
     "end_time": "2024-05-20T17:10:49.486186Z",
     "start_time": "2024-05-20T17:10:49.473234Z"
    }
   },
   "outputs": [],
   "source": [
    "\n",
    "\n",
    "def compare(f1, f2):\n",
    "    df1 = pd.read_csv(f1)\n",
    "    df2 = pd.read_csv(f2)\n",
    "\n",
    "    # Check if both files have the same columns\n",
    "    if list(df1.columns) != list(df2.columns):\n",
    "        print(\"The files have different columns.\")\n",
    "        #return\n",
    "\n",
    "    # Define columns to compare\n",
    "    columns_to_compare = [\n",
    "        'Gerd_storage', 'Gerd_release', 'Roseires_storage', \n",
    "        'Roseires_release', 'Sennar_storage', 'Sennar_release', \n",
    "        'Had_storage', 'Had_release'\n",
    "    ]\n",
    "\n",
    "    differences = []\n",
    "\n",
    "    # Iterate over each row and column, comparing values to 3 decimal points\n",
    "    for index, row in df1.iterrows():\n",
    "        year = row['Year']\n",
    "        for col in columns_to_compare[1:]:  # Skip 'Year' for comparison\n",
    "            val1 = round(row[col], 2)\n",
    "            val2 = round(df2.loc[index, col], 2)\n",
    "            if val1 != val2:\n",
    "                differences.append((year, col, val1, val2))\n",
    "\n",
    "    # Print the differences\n",
    "    if differences:\n",
    "        print(\"Differences found:\")\n",
    "        for year, col, val1, val2 in differences:\n",
    "            print(f\"Year: {year}, Column: {col}: {val1}, {val2}\")\n",
    "    else:\n",
    "        print(\"No differences found.\")"
   ]
  },
  {
   "cell_type": "code",
   "execution_count": 5,
   "id": "e313f9748def9249",
   "metadata": {
    "ExecuteTime": {
     "end_time": "2024-05-20T17:10:50.116992Z",
     "start_time": "2024-05-20T17:10:50.040915Z"
    }
   },
   "outputs": [
    {
     "name": "stdout",
     "output_type": "stream",
     "text": [
      "The files have different columns.\n",
      "Differences found:\n",
      "Year: 26, Column: Had_storage: 70050350890.77, 70050350890.76\n",
      "Year: 72, Column: Had_storage: 44545987385.75, 44545987385.74\n",
      "Year: 100, Column: Had_storage: 28437697773.79, 28437697773.8\n"
     ]
    }
   ],
   "source": [
    "f1 = 'master.csv'\n",
    "f2 = 'paper-implementation.csv'\n",
    "compare(f1, f2)"
   ]
  }
 ],
 "metadata": {
  "kernelspec": {
   "display_name": "Python 3",
   "language": "python",
   "name": "python3"
  },
  "language_info": {
   "codemirror_mode": {
    "name": "ipython",
    "version": 3
   },
   "file_extension": ".py",
   "mimetype": "text/x-python",
   "name": "python",
   "nbconvert_exporter": "python",
   "pygments_lexer": "ipython3",
   "version": "3.8.5"
  }
 },
 "nbformat": 4,
 "nbformat_minor": 5
}
